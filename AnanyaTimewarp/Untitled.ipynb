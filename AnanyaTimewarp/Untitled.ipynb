{
 "cells": [
  {
   "cell_type": "code",
   "execution_count": null,
   "id": "58d7c3d7-3efa-49d3-a49f-4437aef5fc14",
   "metadata": {},
   "outputs": [],
   "source": [
    "!git clone https://github.com/microsoft/timewarp\n",
    "%cd timewarp"
   ]
  },
  {
   "cell_type": "code",
   "execution_count": null,
   "id": "d8f238d9-50ff-403d-9896-8674f23a59be",
   "metadata": {},
   "outputs": [],
   "source": [
    "!pip install psutil pytest docopt pyyaml pillow nglview==3.0.3 openmm mdtraj pdbfixer pymol-open-source ambertools biopython pytorch protobuf~=3.19.0 tensorboard pandas plotly monty tqdm lmdb  torch torchvision torchaudio --index-url https://download.pytorch.org/whl/cu126 openmm mdtraj"
   ]
  },
  {
   "cell_type": "code",
   "execution_count": null,
   "id": "803bfd0b-8f4f-4b94-b885-2d7184e08d28",
   "metadata": {},
   "outputs": [],
   "source": [
    "! pip install torch torchvision torchaudio --index-url https://download.pytorch.org/whl/cu126\n"
   ]
  },
  {
   "cell_type": "code",
   "execution_count": null,
   "id": "3c54055c-4b75-4198-a498-83c72627b55e",
   "metadata": {},
   "outputs": [],
   "source": [
    "!pip install psutil pytest docopt pyyaml pillow protobuf~=3.19.0 \\\n",
    "    tensorboard pandas plotly monty tqdm lmdb\n"
   ]
  },
  {
   "cell_type": "code",
   "execution_count": null,
   "id": "50b7d2af-2559-4257-93dc-cc120f3833bd",
   "metadata": {},
   "outputs": [],
   "source": [
    "pip install openmm mdtraj\n"
   ]
  },
  {
   "cell_type": "code",
   "execution_count": null,
   "id": "5fa823f6-b669-4e1b-b1ee-04f94b1f5f78",
   "metadata": {},
   "outputs": [],
   "source": [
    "!git clone https://huggingface.co/datasets/microsoft/timewarp"
   ]
  },
  {
   "cell_type": "code",
   "execution_count": null,
   "id": "5288e752-d1f6-40f1-b061-10c28deaae4e",
   "metadata": {},
   "outputs": [],
   "source": [
    "%cd AnanyaTimewarp"
   ]
  },
  {
   "cell_type": "code",
   "execution_count": null,
   "id": "437d15c9-2204-41b7-b044-874dca5d8fa3",
   "metadata": {},
   "outputs": [],
   "source": [
    "!git clone https://github.com/noegroup/bgflow\n",
    "%cd bgflow"
   ]
  },
  {
   "cell_type": "code",
   "execution_count": null,
   "id": "8cff3e2c-5a56-4238-b810-5424634864db",
   "metadata": {},
   "outputs": [],
   "source": [
    "!python setup.py install"
   ]
  },
  {
   "cell_type": "code",
   "execution_count": null,
   "id": "0f21e0cc-1cd8-430e-9a7e-5f8ec92b0e27",
   "metadata": {},
   "outputs": [],
   "source": [
    "file_path = \"/workspace/Ananya _Timewarp/bgflow/versioneer.py\"\n",
    "\n",
    "with open(file_path, 'r') as f:\n",
    "    content = f.read()\n",
    "\n",
    "content = content.replace('SafeConfigParser', 'RawConfigParser')\n",
    "content = content.replace('readfp(', 'read_file(')\n",
    "\n",
    "with open(file_path, 'w') as f:\n",
    "    f.write(content)\n",
    "\n",
    "print(\"Patched versioneer.py to fix SafeConfigParser and readfp errors\")\n"
   ]
  },
  {
   "cell_type": "code",
   "execution_count": null,
   "id": "8d4b85d8-5962-4d3d-99f4-d7b26add0acc",
   "metadata": {},
   "outputs": [],
   "source": [
    "!python -m pip install --upgrade pip setuptools wheel\n"
   ]
  },
  {
   "cell_type": "code",
   "execution_count": null,
   "id": "caac22a1-2397-44ea-9dcd-35a8e97828f6",
   "metadata": {},
   "outputs": [],
   "source": [
    "root/timewarp"
   ]
  },
  {
   "cell_type": "code",
   "execution_count": null,
   "id": "0dc607f3-9793-4ec6-b7ef-79dba010c7b5",
   "metadata": {},
   "outputs": [],
   "source": [
    "import sys\n",
    "sys.path.append('/root/timewarp')\n"
   ]
  },
  {
   "cell_type": "code",
   "execution_count": null,
   "id": "c3c60628-e052-4020-92f1-4a7aa8a18418",
   "metadata": {},
   "outputs": [],
   "source": [
    "from utilities.model\n"
   ]
  },
  {
   "cell_type": "code",
   "execution_count": null,
   "id": "f211eb46-9d84-44b9-8d58-4fcfdd4d80b5",
   "metadata": {},
   "outputs": [],
   "source": [
    "!python train.py configs/kernel_transformer_nvp.yaml"
   ]
  },
  {
   "cell_type": "code",
   "execution_count": null,
   "id": "524aaa04-d3ef-4da4-b4f7-d1305e5b3123",
   "metadata": {},
   "outputs": [],
   "source": []
  }
 ],
 "metadata": {
  "kernelspec": {
   "display_name": "Python 3 (ipykernel)",
   "language": "python",
   "name": "python3"
  },
  "language_info": {
   "codemirror_mode": {
    "name": "ipython",
    "version": 3
   },
   "file_extension": ".py",
   "mimetype": "text/x-python",
   "name": "python",
   "nbconvert_exporter": "python",
   "pygments_lexer": "ipython3",
   "version": "3.12.3"
  }
 },
 "nbformat": 4,
 "nbformat_minor": 5
}
